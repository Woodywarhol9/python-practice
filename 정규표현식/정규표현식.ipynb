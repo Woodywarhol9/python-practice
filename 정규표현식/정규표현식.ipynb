{
 "cells": [
  {
   "cell_type": "markdown",
   "metadata": {},
   "source": [
    "### 정규 표현식 사용해보기"
   ]
  },
  {
   "cell_type": "markdown",
   "metadata": {},
   "source": [
    "- 전화번호만 찾기"
   ]
  },
  {
   "cell_type": "code",
   "execution_count": 2,
   "metadata": {},
   "outputs": [
    {
     "name": "stdout",
     "output_type": "stream",
     "text": [
      "02-123-4567\n",
      "070-9999-9999\n",
      "010 2454 3457\n"
     ]
    }
   ],
   "source": [
    "# 전화번호를 찾는 정규표현식 0\\d{1,2}[ -]?\\d{3,4}[ -]?\\d{3,4}를 빈칸에 입력하세요.\n",
    "regex = r'0\\d{1,2}[ -]?\\d{3,4}[ -]?\\d{3,4}'  \n",
    "\n",
    "# 주소록입니다. 이후 강의에서 모두 이 search_target을 사용합니다.\n",
    "search_target = '''Luke Skywarker 02-123-4567 luke@daum.net\n",
    "다스베이더 070-9999-9999 darth_vader@gmail.com\n",
    "princess leia 010 2454 3457 leia@gmail.com'''\n",
    "\n",
    "# 정규표현식과 일치하는 부분을 모두 찾아주는 파이썬 코드입니다.\n",
    "import re\n",
    "result = re.findall(regex, search_target)\n",
    "print(\"\\n\".join(result))"
   ]
  },
  {
   "cell_type": "markdown",
   "metadata": {},
   "source": [
    "### 숫자 대표 문자"
   ]
  },
  {
   "cell_type": "markdown",
   "metadata": {},
   "source": [
    "- \\d는 숫자를 대표하는 정규표현식입니다. 이때 d는 digit을 뜻합니다."
   ]
  },
  {
   "cell_type": "code",
   "execution_count": 3,
   "metadata": {},
   "outputs": [
    {
     "name": "stdout",
     "output_type": "stream",
     "text": [
      "0\n",
      "2\n",
      "1\n",
      "2\n",
      "3\n",
      "4\n",
      "5\n",
      "6\n",
      "7\n",
      "0\n",
      "7\n",
      "0\n",
      "9\n",
      "9\n",
      "9\n",
      "9\n",
      "9\n",
      "9\n",
      "9\n",
      "9\n",
      "0\n",
      "1\n",
      "0\n",
      "2\n",
      "4\n",
      "5\n",
      "4\n",
      "3\n",
      "4\n",
      "5\n",
      "7\n"
     ]
    }
   ],
   "source": [
    "regex = r'\\d'\n",
    "\n",
    "# 주소록입니다. 이후 강의에서 모두 이 search_target을 사용합니다.\n",
    "search_target = '''Luke Skywarker 02-123-4567 luke@daum.net\n",
    "다스베이더 070-9999-9999 darth_vader@gmail.com\n",
    "princess leia 010 2454 3457 leia@gmail.com'''\n",
    "\n",
    "# 정규표현식과 일치하는 부분을 모두 찾아주는 파이썬 코드입니다.\n",
    "import re\n",
    "result = re.findall(regex, search_target)\n",
    "print(\"\\n\".join(result))"
   ]
  },
  {
   "cell_type": "markdown",
   "metadata": {},
   "source": [
    "### 글자 대표 문자"
   ]
  },
  {
   "cell_type": "markdown",
   "metadata": {},
   "source": [
    "- \\w는 글자를 대표하는 정규표현식입니다.\n",
    "- a, b, c, 가, 나, 다, 1, 2와 같은 문자와 숫자를 포함합니다.\n",
    "- 특수문자는 포함하지 않지만, _(언더스코어)는 포함합니다."
   ]
  },
  {
   "cell_type": "code",
   "execution_count": 4,
   "metadata": {},
   "outputs": [
    {
     "name": "stdout",
     "output_type": "stream",
     "text": [
      "L\n",
      "u\n",
      "k\n",
      "e\n",
      "S\n",
      "k\n",
      "y\n",
      "w\n",
      "a\n",
      "r\n",
      "k\n",
      "e\n",
      "r\n",
      "0\n",
      "2\n",
      "1\n",
      "2\n",
      "3\n",
      "4\n",
      "5\n",
      "6\n",
      "7\n",
      "l\n",
      "u\n",
      "k\n",
      "e\n",
      "d\n",
      "a\n",
      "u\n",
      "m\n",
      "n\n",
      "e\n",
      "t\n",
      "다\n",
      "스\n",
      "베\n",
      "이\n",
      "더\n",
      "0\n",
      "7\n",
      "0\n",
      "9\n",
      "9\n",
      "9\n",
      "9\n",
      "9\n",
      "9\n",
      "9\n",
      "9\n",
      "d\n",
      "a\n",
      "r\n",
      "t\n",
      "h\n",
      "_\n",
      "v\n",
      "a\n",
      "d\n",
      "e\n",
      "r\n",
      "g\n",
      "m\n",
      "a\n",
      "i\n",
      "l\n",
      "c\n",
      "o\n",
      "m\n",
      "p\n",
      "r\n",
      "i\n",
      "n\n",
      "c\n",
      "e\n",
      "s\n",
      "s\n",
      "l\n",
      "e\n",
      "i\n",
      "a\n",
      "0\n",
      "1\n",
      "0\n",
      "2\n",
      "4\n",
      "5\n",
      "4\n",
      "3\n",
      "4\n",
      "5\n",
      "7\n",
      "l\n",
      "e\n",
      "i\n",
      "a\n",
      "g\n",
      "m\n",
      "a\n",
      "i\n",
      "l\n",
      "c\n",
      "o\n",
      "m\n"
     ]
    }
   ],
   "source": [
    "# 빈칸에 정규표현식을 적습니다.\n",
    "regex = r'\\w'\n",
    "\n",
    "search_target = '''Luke Skywarker 02-123-4567 luke@daum.net\n",
    "다스베이더 070-9999-9999 darth_vader@gmail.com\n",
    "princess leia 010 2454 3457 leia@gmail.com'''\n",
    "\n",
    "# 정규표현식과 일치하는 부분을 모두 찾아주는 파이썬 코드입니다.\n",
    "import re\n",
    "result = re.findall(regex, search_target)\n",
    "print(\"\\n\".join(result))"
   ]
  },
  {
   "cell_type": "markdown",
   "metadata": {},
   "source": [
    "### 하나 이상"
   ]
  },
  {
   "cell_type": "markdown",
   "metadata": {},
   "source": [
    "- \\d는 숫자를 한글자만 찾습니다. 그런데, 전화번호를 구성하는 043이나 2568같이 연결된 숫자를 찾고 싶을 때는 어떻게 해야 할까요?\n",
    "- 그럴 땐 +를 이용하면 됩니다. +는 \"하나 혹은 그 이상 연결된\"이라는 뜻입니다. 따라서 \\d+는 \"하나 혹은 그 이상 연결된 숫자\"를 의미합니다."
   ]
  },
  {
   "cell_type": "code",
   "execution_count": 5,
   "metadata": {},
   "outputs": [
    {
     "name": "stdout",
     "output_type": "stream",
     "text": [
      "['02', '123', '4567', '070', '9999', '9999', '010', '2454', '3457']\n"
     ]
    }
   ],
   "source": [
    "# 빈칸에 정규표현식을 적습니다.\n",
    "regex = r'\\d+'\n",
    "\n",
    "search_target = '''Luke Skywarker 02-123-4567 luke@daum.net\n",
    "다스베이더 070-9999-9999 darth_vader@gmail.com\n",
    "princess leia 010 2454 3457 leia@gmail.com'''\n",
    "\n",
    "#아래 부분은 본 강의에서 다루지 않습니다.\n",
    "import re\n",
    "result=re.findall(regex,search_target)\n",
    "print(result)"
   ]
  },
  {
   "cell_type": "markdown",
   "metadata": {},
   "source": [
    "### 0개 이상"
   ]
  },
  {
   "cell_type": "markdown",
   "metadata": {},
   "source": [
    "- 정규표현식으로 010, 123, 456 중 자연수를 찾으려면 어떻게 해야 할까요? \n",
    "- 자연수는 0으로 시작하지 않으니 자연수의 첫자리는 반드시 1 ~ 9 중에 하나이어야 합니다.\n",
    "- 그다음 자리부터는 0~9 사이의 숫자가 나올 수도 있고, 나오지 않을 수도 있지요. 다시 말해, 자연수는 다음과 같이 표현할 수 있습니다.\n",
    "1. 처음에 1~9중 하나의 숫자가 나온 다음 \n",
    "2. 그 뒤에는 숫자가 0개 이상 나오면 \n",
    "- *은 \"0개 이상\"이라는 뜻입니다. 따라서 \\d*는 \"숫자가 0개 이상이다\"를 의미합니다. 이를 이용하면 자연수는 [1-9]\\d*로 표현할 수 있습니다."
   ]
  },
  {
   "cell_type": "code",
   "execution_count": 6,
   "metadata": {},
   "outputs": [
    {
     "name": "stdout",
     "output_type": "stream",
     "text": [
      "2\n",
      "123\n",
      "4567\n",
      "70\n",
      "9999\n",
      "9999\n",
      "10\n",
      "2454\n",
      "3457\n"
     ]
    }
   ],
   "source": [
    "regex = r'[1-9]\\d*'\n",
    "\n",
    "search_target = '''Luke Skywarker 02-123-4567 luke@daum.net\n",
    "다스베이더 070-9999-9999 darth_vader@gmail.com\n",
    "princess leia 010 2454 3457 leia@gmail.com'''\n",
    "\n",
    "# 정규표현식과 일치하는 부분을 모두 찾아주는 파이썬 코드입니다.\n",
    "import re\n",
    "result = re.findall(regex, search_target)\n",
    "print(\"\\n\".join(result))"
   ]
  },
  {
   "cell_type": "markdown",
   "metadata": {},
   "source": [
    "### 있거나 없거나 (1)"
   ]
  },
  {
   "cell_type": "markdown",
   "metadata": {},
   "source": [
    "- 전화번호는 \"-\"을 포함하거나, 포함하지 않을 수 있습니다. 예를 들어, 다음은 모두 유효한 전화번호입니다.\n",
    "```021234567\n",
    "02-123-4567\n",
    "```\n",
    "- 따라서 전화번호는 연속되는 숫자 3 ~ 4개 사이에 -가 있거나 없다고 표현할 수 있습니다.\n",
    "- ?는 '있거나 없거나'라는 뜻입니다. 따라서 -?는 \"-가 있거나 없다\"를 의미합니다. 따라서 이를 연속하는 숫자는 \\d+와 조합하면 전화번호를 찾는 정규표현식을 만들 수 있습니다.\n",
    "- \\d+-?\\d+-?\\d+"
   ]
  },
  {
   "cell_type": "code",
   "execution_count": 7,
   "metadata": {},
   "outputs": [
    {
     "name": "stdout",
     "output_type": "stream",
     "text": [
      "['02-123-4567', '070-9999-9999', '010', '2454', '3457']\n"
     ]
    }
   ],
   "source": [
    "regex = r'\\d+-?\\d+-?\\d+'\n",
    "\n",
    "search_target = '''Luke Skywarker 02-123-4567 luke@daum.net\n",
    "다스베이더 070-9999-9999 darth_vader@gmail.com\n",
    "princess leia 010 2454 3457 leia@gmail.com'''\n",
    "\n",
    "#아래 부분은 본 강의에서 다루지 않습니다.\n",
    "import re\n",
    "result=re.findall(regex,search_target)\n",
    "print(result)"
   ]
  },
  {
   "cell_type": "markdown",
   "metadata": {},
   "source": [
    "### 있거나 없거나 (2)"
   ]
  },
  {
   "cell_type": "markdown",
   "metadata": {},
   "source": [
    "\\d+-?\\d+-?\\d+ 정규표현식은 한계가 있습니다. \"010 2454 3457\"과 같이 공백이 포함된 전화번호를 찾을 수 없지요.\n",
    "```\n",
    "021234567\n",
    "02-123-4567\n",
    "010 2454 3457\n",
    "```\n",
    "모든 전화번호를 찾으려면 \n",
    "\n",
    "\"-가 있거나 없다\"는 조건이 아니라\n",
    "\"- 또는 공백이 있거나 없다\"는 조건을 써야 합니다.\n",
    "- 또는 (공백)이 있거나 없다는 조건은 [- ]?로 표현할 수 있습니다."
   ]
  },
  {
   "cell_type": "code",
   "execution_count": 9,
   "metadata": {},
   "outputs": [
    {
     "name": "stdout",
     "output_type": "stream",
     "text": [
      "['02-123-4567', '070-9999-9999', '010 2454 3457']\n"
     ]
    }
   ],
   "source": [
    "regex = r'\\d+[- ]?\\d+[- ]?\\d+'\n",
    "\n",
    "search_target = '''Luke Skywarker 02-123-4567 luke@daum.net\n",
    "다스베이더 070-9999-9999 darth_vader@gmail.com\n",
    "princess leia 010 2454 3457 leia@gmail.com'''\n",
    "\n",
    "#아래 부분은 본 강의에서 다루지 않습니다.\n",
    "import re\n",
    "result=re.findall(regex,search_target)\n",
    "print(result)"
   ]
  },
  {
   "cell_type": "markdown",
   "metadata": {},
   "source": [
    "### n번 (1)\n",
    "- 앞서 배운 \\d+[- ]?\\d+[- ]?\\d+ 정규표현식으로는 전화번호를 찾는데 한계가 있습니다. \n",
    "- \"0030589-5-95826\"과 같이 연결된 숫자가 너무 많은 문자열도 전화번호라고 인식합니다."
   ]
  },
  {
   "cell_type": "code",
   "execution_count": 10,
   "metadata": {},
   "outputs": [
    {
     "name": "stdout",
     "output_type": "stream",
     "text": [
      "['0030589-5-95826', '02-123-4567', '070-9999-9999', '010 2454 3457']\n"
     ]
    }
   ],
   "source": [
    "# 본 문제는 실행만하면 통과하는 문제입니다.\n",
    "regex = r'\\d+[- ]?\\d+[- ]?\\d+'\n",
    "\n",
    "search_target = '''이상한 전화번호 0030589-5-95826\n",
    "Luke Skywarker 02-123-4567 luke@daum.net\n",
    "다스베이더 070-9999-9999 darth_vader@gmail.com\n",
    "princess leia 010 2454 3457 leia@gmail.com'''\n",
    "\n",
    "#아래 부분은 본 강의에서 다루지 않습니다.\n",
    "import re\n",
    "result=re.findall(regex,search_target)\n",
    "print(result)"
   ]
  },
  {
   "cell_type": "markdown",
   "metadata": {},
   "source": [
    "### n번 (2)\n",
    "- {숫자}는 \"숫자번 반복한다\"는 뜻입니다. 예를 들어 \\d{2}는 \"숫자가 연속 두 번 나온다\"는 뜻입니다."
   ]
  },
  {
   "cell_type": "code",
   "execution_count": 11,
   "metadata": {},
   "outputs": [
    {
     "name": "stdout",
     "output_type": "stream",
     "text": [
      "['02-123-4567']\n"
     ]
    }
   ],
   "source": [
    "regex = r'\\d{2}[- ]?\\d{3}[- ]?\\d{4}'\n",
    "\n",
    "search_target = '''이상한 전화번호 0030589-5-95826\n",
    "Luke Skywarker 02-123-4567 luke@daum.net\n",
    "다스베이더 070-9999-9999 darth_vader@gmail.com\n",
    "princess leia 010 2454 3457 leia@gmail.com'''\n",
    "\n",
    "#아래 부분은 본 강의에서 다루지 않습니다.\n",
    "import re\n",
    "result=re.findall(regex,search_target)\n",
    "print(result)"
   ]
  },
  {
   "cell_type": "markdown",
   "metadata": {},
   "source": [
    "### n ~ m 번"
   ]
  },
  {
   "cell_type": "markdown",
   "metadata": {},
   "source": [
    "- 앞서 배운 \\d{2}[- ]?\\d{3}[- ]?\\d{4} 정규표현식으로는 전화번호를 찾는데 한계가 있습니다. 전화번호의 첫 부분에 숫자가 3번(010 2454 3457) 나오는 경우를 인식하지 못하지요.\n",
    "```\n",
    "021234567\n",
    "02-123-4567\n",
    "010 2454 3457\n",
    "```\n",
    "- {숫자1, 숫자2}는 \"숫자1부터 숫자2까지 반복한다\"는 뜻입니다. 예를 들어, \\w{2,3}는 \"문자가 2 ~ 3번 나온다\"는 뜻입니다.\n",
    "- 전화번호의 자릿수는 다음과 같습니다. 따라서 전화번호는 \\d{2,3}[- ]?\\d{3,4}[- ]?\\d{4}와 같이 표현할 수 있습니다."
   ]
  },
  {
   "cell_type": "code",
   "execution_count": 12,
   "metadata": {},
   "outputs": [
    {
     "name": "stdout",
     "output_type": "stream",
     "text": [
      "['02-123-4567', '070-9999-9999', '010 2454 3457']\n"
     ]
    }
   ],
   "source": [
    "regex = r'\\d{2,3}[- ]?\\d{3,4}[- ]?\\d{4}'\n",
    "\n",
    "search_target = '''이상한 전화번호 0030589-5-95826\n",
    "Luke Skywarker 02-123-4567 luke@daum.net\n",
    "다스베이더 070-9999-9999 darth_vader@gmail.com\n",
    "princess leia 010 2454 3457 leia@gmail.com'''\n",
    "\n",
    "#아래 부분은 본 강의에서 다루지 않습니다.\n",
    "import re\n",
    "result=re.findall(regex,search_target)\n",
    "print(result)"
   ]
  },
  {
   "cell_type": "markdown",
   "metadata": {},
   "source": [
    "### 몇 개 중에 고르기\n",
    "- 알파벳 중에 소문자 모음(a,e,i,o,u)만 고르고 싶을 땐 어떻게 할까요?\n",
    "- 그럴 때는 [aeiou]라고 적어주세요. 정규표현식에서 대괄호[ ] 안에 글자를 넣으면 해당 글자를 모두 선택할 수 있습니다."
   ]
  },
  {
   "cell_type": "code",
   "execution_count": 13,
   "metadata": {},
   "outputs": [
    {
     "name": "stdout",
     "output_type": "stream",
     "text": [
      "u\n",
      "e\n",
      "a\n",
      "e\n",
      "u\n",
      "e\n",
      "a\n",
      "u\n",
      "e\n",
      "a\n",
      "a\n",
      "e\n",
      "a\n",
      "i\n",
      "o\n",
      "i\n",
      "e\n",
      "e\n",
      "i\n",
      "a\n",
      "e\n",
      "i\n",
      "a\n",
      "a\n",
      "i\n",
      "o\n"
     ]
    }
   ],
   "source": [
    "regex = r'[aeiou]'\n",
    "\n",
    "search_target = '''Luke Skywarker 02-123-4567 luke@daum.net\n",
    "다스베이더 070-9999-9999 darth_vader@gmail.com\n",
    "princess leia 010 2454 3457 leia@gmail.com'''\n",
    "\n",
    "# 정규표현식과 일치하는 부분을 모두 찾아주는 파이썬 코드입니다.\n",
    "import re\n",
    "result = re.findall(regex, search_target)\n",
    "print(\"\\n\".join(result))"
   ]
  },
  {
   "cell_type": "markdown",
   "metadata": {},
   "source": [
    "### 범위에서 고르기(1)\n",
    "\n",
    "- 소문자 알파벳만 고르고 싶을 땐 어떻게 할까요? [abcdefghijklmnopqrlstuvwxyz]처럼 대괄호 안에 소문자를 모두 나열할 수도 있지만 뭔가 찜찜하지요.\n",
    "- 우리는 간단히 [a-z]를 쓰도록 합시다. [a-z]는 \"a부터 z까지 글자를 모두 선택하라\"는 의미입니다."
   ]
  },
  {
   "cell_type": "code",
   "execution_count": 15,
   "metadata": {},
   "outputs": [
    {
     "name": "stdout",
     "output_type": "stream",
     "text": [
      "u\n",
      "k\n",
      "e\n",
      "k\n",
      "y\n",
      "w\n",
      "a\n",
      "r\n",
      "k\n",
      "e\n",
      "r\n",
      "l\n",
      "u\n",
      "k\n",
      "e\n",
      "d\n",
      "a\n",
      "u\n",
      "m\n",
      "n\n",
      "e\n",
      "t\n",
      "d\n",
      "a\n",
      "r\n",
      "t\n",
      "h\n",
      "v\n",
      "a\n",
      "d\n",
      "e\n",
      "r\n",
      "g\n",
      "m\n",
      "a\n",
      "i\n",
      "l\n",
      "c\n",
      "o\n",
      "m\n",
      "p\n",
      "r\n",
      "i\n",
      "n\n",
      "c\n",
      "e\n",
      "s\n",
      "s\n",
      "l\n",
      "e\n",
      "i\n",
      "a\n",
      "l\n",
      "e\n",
      "i\n",
      "a\n",
      "g\n",
      "m\n",
      "a\n",
      "i\n",
      "l\n",
      "c\n",
      "o\n",
      "m\n"
     ]
    }
   ],
   "source": [
    "regex = r'[a-z]'\n",
    "\n",
    "search_target = '''Luke Skywarker 02-123-4567 luke@daum.net\n",
    "다스베이더 070-9999-9999 darth_vader@gmail.com\n",
    "princess leia 010 2454 3457 leia@gmail.com'''\n",
    "\n",
    "# 정규표현식과 일치하는 부분을 모두 찾아주는 파이썬 코드입니다.\n",
    "import re\n",
    "result = re.findall(regex, search_target)\n",
    "print(\"\\n\".join(result))"
   ]
  },
  {
   "cell_type": "markdown",
   "metadata": {},
   "source": [
    "### 범위에서 고르기 (2)"
   ]
  },
  {
   "cell_type": "markdown",
   "metadata": {},
   "source": [
    "- 연속된 영어 소문자를 찾으려면 어떻게 할까요?\n",
    "- 소문자를 뜻하는 [a-z]와\n",
    "- 반복을 뜻하는 +를 붙여 => [a-z]+를 씁니다."
   ]
  },
  {
   "cell_type": "code",
   "execution_count": 22,
   "metadata": {},
   "outputs": [
    {
     "name": "stdout",
     "output_type": "stream",
     "text": [
      "uke\n",
      "kywarker\n",
      "luke\n",
      "daum\n",
      "net\n",
      "darth\n",
      "vader\n",
      "gmail\n",
      "com\n",
      "princess\n",
      "leia\n",
      "leia\n",
      "gmail\n",
      "com\n"
     ]
    }
   ],
   "source": [
    "regex = r'[a-z]+'\n",
    "\n",
    "search_target = '''Luke Skywarker 02-123-4567 luke@daum.net\n",
    "다스베이더 070-9999-9999 darth_vader@gmail.com\n",
    "princess leia 010 2454 3457 leia@gmail.com'''\n",
    "\n",
    "# 정규표현식과 일치하는 부분을 모두 찾아주는 파이썬 코드입니다.\n",
    "import re\n",
    "result = re.findall(regex, search_target)\n",
    "print(\"\\n\".join(result))"
   ]
  },
  {
   "cell_type": "markdown",
   "metadata": {},
   "source": [
    "### 한글 고르기\n",
    "- 한글의 첫 번째 글자는 가이고 마지막 글자는 힣입니다. 따라서 한글은 [가-힣]으로 찾을 수 있습니다.\n",
    "- 단, 이 방식으로는 ㄱㄴㄷ이나 ㅏㅑㅓㅕ같은 낱글자는 찾을 수 없습니다. "
   ]
  },
  {
   "cell_type": "code",
   "execution_count": 23,
   "metadata": {},
   "outputs": [
    {
     "name": "stdout",
     "output_type": "stream",
     "text": [
      "다스베이더\n"
     ]
    }
   ],
   "source": [
    "regex = r'[가-힣]+'\n",
    "\n",
    "search_target = '''Luke Skywarker 02-123-4567 luke@daum.net\n",
    "다스베이더 070-9999-9999 darth_vader@gmail.com\n",
    "princess leia 010 2454 3457 leia@gmail.com'''\n",
    "\n",
    "# 정규표현식과 일치하는 부분을 모두 찾아주는 파이썬 코드입니다.\n",
    "import re\n",
    "result = re.findall(regex, search_target)\n",
    "print(\"\\n\".join(result))"
   ]
  },
  {
   "cell_type": "markdown",
   "metadata": {},
   "source": [
    "### 기타 대표문자\n",
    "\n",
    "- 숫자(\\d)나 글자(\\w)이외에도 다양한 대표 문자가 있습니다.\n",
    "- 빈칸에 다양한 대표 문자를 입력해서 결과를 확인해 보세요.\n",
    "\n",
    "- \\s 공백 문자(스페이스, 탭, 뉴라인)\n",
    "- \\S 공백 문자를 제외한 문자\n",
    "- \\D 숫자를 제외한 문자\n",
    "- \\W 글자 대표 문자를 제외한 글자들(특수문자, 공백 등)"
   ]
  },
  {
   "cell_type": "code",
   "execution_count": 25,
   "metadata": {},
   "outputs": [
    {
     "name": "stdout",
     "output_type": "stream",
     "text": [
      " \n",
      " \n",
      "-\n",
      "-\n",
      " \n",
      "@\n",
      ".\n",
      "\n",
      "\n",
      " \n",
      "-\n",
      "-\n",
      " \n",
      "@\n",
      ".\n",
      "\n",
      "\n",
      " \n",
      " \n",
      " \n",
      " \n",
      " \n",
      "@\n",
      ".\n"
     ]
    }
   ],
   "source": [
    "regex = r'\\W'\n",
    "\n",
    "search_target = '''Luke Skywarker 02-123-4567 luke@daum.net\n",
    "다스베이더 070-9999-9999 darth_vader@gmail.com\n",
    "princess leia 010 2454 3457 leia@gmail.com'''\n",
    "\n",
    "# 정규표현식과 일치하는 부분을 모두 찾아주는 파이썬 코드입니다.\n",
    "import re\n",
    "result = re.findall(regex, search_target)\n",
    "print(\"\\n\".join(result))"
   ]
  }
 ],
 "metadata": {
  "kernelspec": {
   "display_name": "Python 3.8.8 ('base')",
   "language": "python",
   "name": "python3"
  },
  "language_info": {
   "codemirror_mode": {
    "name": "ipython",
    "version": 3
   },
   "file_extension": ".py",
   "mimetype": "text/x-python",
   "name": "python",
   "nbconvert_exporter": "python",
   "pygments_lexer": "ipython3",
   "version": "3.8.8"
  },
  "orig_nbformat": 4,
  "vscode": {
   "interpreter": {
    "hash": "e94cfc432c9c34f0880a2e7722fd744e15207f774b854c8e9fc5d614706597c6"
   }
  }
 },
 "nbformat": 4,
 "nbformat_minor": 2
}
