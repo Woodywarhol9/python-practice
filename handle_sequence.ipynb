{
 "cells": [
  {
   "cell_type": "markdown",
   "metadata": {},
   "source": [
    "#### sequence 멤버를 하나로 이어붙이기\n",
    "시퀀스의 멤버들을 하나의 str로 이어붙여야 할 때 for문으로 접근할 수도 있지만   \n",
    "`str.join(iterable)`를 활용하면 더 간단하게 가능하다."
   ]
  },
  {
   "cell_type": "code",
   "execution_count": 6,
   "metadata": {},
   "outputs": [],
   "source": [
    "my_list = ['1', '100', '33']\n",
    "answer = ''\n",
    "for value in my_list:\n",
    "    answer += value"
   ]
  },
  {
   "cell_type": "markdown",
   "metadata": {},
   "source": [
    "''라는 빈 str를 이용해서 join을 활용한다."
   ]
  },
  {
   "cell_type": "code",
   "execution_count": 7,
   "metadata": {},
   "outputs": [],
   "source": [
    "my_list = ['1', '100', '33']\n",
    "answer = ''.join(my_list)"
   ]
  },
  {
   "cell_type": "markdown",
   "metadata": {},
   "source": [
    "#### 곱셈 연산 *를 통해 반복하기\n",
    "for문을 이용해서 기존 str, list에 더해가는 방법도 있지만   \n",
    "python에선 * 연산자를 활용하면 더 간단하게 표현할 수 있다."
   ]
  },
  {
   "cell_type": "code",
   "execution_count": 12,
   "metadata": {},
   "outputs": [
    {
     "name": "stdout",
     "output_type": "stream",
     "text": [
      "abcabcabc\n"
     ]
    }
   ],
   "source": [
    "answer = ''\n",
    "n = 3\n",
    "for _ in range(n):\n",
    "    answer += 'abc'\n",
    "print(answer)"
   ]
  },
  {
   "cell_type": "code",
   "execution_count": 13,
   "metadata": {},
   "outputs": [
    {
     "name": "stdout",
     "output_type": "stream",
     "text": [
      "abcabcabc\n"
     ]
    }
   ],
   "source": [
    "n = 3\n",
    "answer= \"abc\" * n\n",
    "print(answer)"
   ]
  }
 ],
 "metadata": {
  "interpreter": {
   "hash": "8b78ed4ea6a57fe792344e280de9328384818c6afc3ba22764817c6c2d533bb3"
  },
  "kernelspec": {
   "display_name": "Python 3.8.8 ('base')",
   "language": "python",
   "name": "python3"
  },
  "language_info": {
   "codemirror_mode": {
    "name": "ipython",
    "version": 3
   },
   "file_extension": ".py",
   "mimetype": "text/x-python",
   "name": "python",
   "nbconvert_exporter": "python",
   "pygments_lexer": "ipython3",
   "version": "3.8.8"
  },
  "orig_nbformat": 4
 },
 "nbformat": 4,
 "nbformat_minor": 2
}
