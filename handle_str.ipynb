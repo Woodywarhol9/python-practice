{
 "cells": [
  {
   "cell_type": "markdown",
   "metadata": {},
   "source": [
    "#### 문자열 정렬하기\n",
    "문자열 좌측/가운데/우측 정렬\n",
    "- ljust, center, rjust와 같은 string 메소드를 사용할 수 있다."
   ]
  },
  {
   "cell_type": "code",
   "execution_count": 1,
   "metadata": {},
   "outputs": [
    {
     "name": "stdout",
     "output_type": "stream",
     "text": [
      "가나다라   \n",
      " 가나다라  \n",
      "   가나다라\n"
     ]
    }
   ],
   "source": [
    "s = \"가나다라\"\n",
    "n = 7\n",
    "print(f'{s:<{n}}') # 변수를 조건으로 주려면 {} 안에다 줘야함.\n",
    "print(f'{s:^{n}}')\n",
    "print(f'{s:>{n}}')"
   ]
  },
  {
   "cell_type": "code",
   "execution_count": 7,
   "metadata": {},
   "outputs": [
    {
     "name": "stdout",
     "output_type": "stream",
     "text": [
      "가나다라   \n",
      "  가나다라 \n",
      "   가나다라\n"
     ]
    }
   ],
   "source": [
    "s = '가나다라'\n",
    "n = 7\n",
    "\n",
    "print(s.ljust(n)) # 좌측 정렬\n",
    "print(s.center(n)) # 가운데 정렬\n",
    "print(s.rjust(n)) # 우측 정렬"
   ]
  },
  {
   "cell_type": "markdown",
   "metadata": {},
   "source": [
    "#### 알파벳 출력하기\n",
    "자주 쓰이는 문자열 상수는 string constants로 등록돼 있다.   \n",
    "https://docs.python.org/3.4/library/string.html\n"
   ]
  },
  {
   "cell_type": "code",
   "execution_count": 9,
   "metadata": {},
   "outputs": [
    {
     "name": "stdout",
     "output_type": "stream",
     "text": [
      "abcdefghijklmnopqrstuvwxyz\n",
      "ABCDEFGHIJKLMNOPQRSTUVWXYZ\n",
      "abcdefghijklmnopqrstuvwxyzABCDEFGHIJKLMNOPQRSTUVWXYZ\n",
      "0123456789\n"
     ]
    }
   ],
   "source": [
    "import string \n",
    "\n",
    "print(string.ascii_lowercase) # 소문자 abcdefghijklmnopqrstuvwxyz\n",
    "print(string.ascii_uppercase) # 대문자 ABCDEFGHIJKLMNOPQRSTUVWXYZ\n",
    "print(string.ascii_letters) # 대소문자 모두 abcdefghijklmnopqrstuvwxyzABCDEFGHIJKLMNOPQRSTUVWXYZ\n",
    "print(string.digits) # 숫자 0123456789"
   ]
  },
  {
   "cell_type": "markdown",
   "metadata": {},
   "source": [
    "#### 원본을 유지한채, 정렬된 리스트 구하기\n",
    "sort() 함수를 사용해서 리스트의 원소를 정렬하면 원본의 순서도 변경한다.    \n",
    "따라서 deep copy 수행 후 sort()를 수행해야하는 번거로움이 있다.   \n",
    "sorted()의 경우 기존 리스트의 순서를 변경하지 않고도 정렬할 수 있다!\n"
   ]
  },
  {
   "cell_type": "code",
   "execution_count": 13,
   "metadata": {},
   "outputs": [
    {
     "name": "stdout",
     "output_type": "stream",
     "text": [
      "[1, 2, 3, 5]\n"
     ]
    }
   ],
   "source": [
    "list1 = [3, 2, 5, 1]\n",
    "list2 = [i for i in list1] # 또는 copy.deepcopy를 사용\n",
    "list2.sort()\n",
    "print(list2)"
   ]
  },
  {
   "cell_type": "code",
   "execution_count": 14,
   "metadata": {},
   "outputs": [
    {
     "name": "stdout",
     "output_type": "stream",
     "text": [
      "[3, 2, 5, 1]\n"
     ]
    }
   ],
   "source": [
    "list1 = [3, 2, 5, 1]\n",
    "list2 = sorted(list1)\n",
    "print(list1)"
   ]
  }
 ],
 "metadata": {
  "interpreter": {
   "hash": "8b78ed4ea6a57fe792344e280de9328384818c6afc3ba22764817c6c2d533bb3"
  },
  "kernelspec": {
   "display_name": "Python 3.8.8 ('base')",
   "language": "python",
   "name": "python3"
  },
  "language_info": {
   "codemirror_mode": {
    "name": "ipython",
    "version": 3
   },
   "file_extension": ".py",
   "mimetype": "text/x-python",
   "name": "python",
   "nbconvert_exporter": "python",
   "pygments_lexer": "ipython3",
   "version": "3.8.8"
  },
  "orig_nbformat": 4
 },
 "nbformat": 4,
 "nbformat_minor": 2
}
