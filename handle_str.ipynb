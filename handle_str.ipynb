{
 "cells": [
  {
   "cell_type": "markdown",
   "metadata": {},
   "source": [
    "#### 문자열 정렬하기\n",
    "문자열 좌측/가운데/우측 정렬\n",
    "- ljust, center, rjust와 같은 string 메소드를 사용할 수 있다."
   ]
  },
  {
   "cell_type": "code",
   "execution_count": 1,
   "metadata": {},
   "outputs": [
    {
     "name": "stdout",
     "output_type": "stream",
     "text": [
      "가나다라   \n",
      " 가나다라  \n",
      "   가나다라\n"
     ]
    }
   ],
   "source": [
    "s = \"가나다라\"\n",
    "n = 7\n",
    "print(f'{s:<{n}}') # 변수를 조건으로 주려면 {} 안에다 줘야함.\n",
    "print(f'{s:^{n}}')\n",
    "print(f'{s:>{n}}')"
   ]
  },
  {
   "cell_type": "code",
   "execution_count": 7,
   "metadata": {},
   "outputs": [
    {
     "name": "stdout",
     "output_type": "stream",
     "text": [
      "가나다라   \n",
      "  가나다라 \n",
      "   가나다라\n"
     ]
    }
   ],
   "source": [
    "s = '가나다라'\n",
    "n = 7\n",
    "\n",
    "print(s.ljust(n)) # 좌측 정렬\n",
    "print(s.center(n)) # 가운데 정렬\n",
    "print(s.rjust(n)) # 우측 정렬"
   ]
  },
  {
   "cell_type": "markdown",
   "metadata": {},
   "source": [
    "#### 알파벳 출력하기\n",
    "자주 쓰이는 문자열 상수는 string constants로 등록돼 있다.   \n",
    "https://docs.python.org/3.4/library/string.html\n"
   ]
  },
  {
   "cell_type": "code",
   "execution_count": 9,
   "metadata": {},
   "outputs": [
    {
     "name": "stdout",
     "output_type": "stream",
     "text": [
      "abcdefghijklmnopqrstuvwxyz\n",
      "ABCDEFGHIJKLMNOPQRSTUVWXYZ\n",
      "abcdefghijklmnopqrstuvwxyzABCDEFGHIJKLMNOPQRSTUVWXYZ\n",
      "0123456789\n"
     ]
    }
   ],
   "source": [
    "import string \n",
    "\n",
    "print(string.ascii_lowercase) # 소문자 abcdefghijklmnopqrstuvwxyz\n",
    "print(string.ascii_uppercase) # 대문자 ABCDEFGHIJKLMNOPQRSTUVWXYZ\n",
    "print(string.ascii_letters) # 대소문자 모두 abcdefghijklmnopqrstuvwxyzABCDEFGHIJKLMNOPQRSTUVWXYZ\n",
    "print(string.digits) # 숫자 0123456789"
   ]
  }
 ],
 "metadata": {
  "interpreter": {
   "hash": "8b78ed4ea6a57fe792344e280de9328384818c6afc3ba22764817c6c2d533bb3"
  },
  "kernelspec": {
   "display_name": "Python 3.8.8 ('base')",
   "language": "python",
   "name": "python3"
  },
  "language_info": {
   "codemirror_mode": {
    "name": "ipython",
    "version": 3
   },
   "file_extension": ".py",
   "mimetype": "text/x-python",
   "name": "python",
   "nbconvert_exporter": "python",
   "pygments_lexer": "ipython3",
   "version": "3.8.8"
  },
  "orig_nbformat": 4
 },
 "nbformat": 4,
 "nbformat_minor": 2
}
