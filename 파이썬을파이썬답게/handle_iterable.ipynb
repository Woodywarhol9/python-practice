{
 "cells": [
  {
   "cell_type": "markdown",
   "metadata": {},
   "source": [
    "#### 원본을 유지한채, 정렬된 리스트 구하기\n",
    "sort() 함수를 사용해서 리스트의 원소를 정렬하면 원본의 순서도 변경한다.    \n",
    "따라서 deep copy 수행 후 sort()를 수행해야하는 번거로움이 있다.   \n",
    "sorted()의 경우 기존 리스트의 순서를 변경하지 않고도 정렬할 수 있다!"
   ]
  },
  {
   "cell_type": "code",
   "execution_count": 2,
   "metadata": {},
   "outputs": [
    {
     "name": "stdout",
     "output_type": "stream",
     "text": [
      "[1, 2, 3, 5]\n"
     ]
    }
   ],
   "source": [
    "list1 = [3, 2, 5, 1]\n",
    "list2 = [i for i in list1] # 또는 copy.deepcopy를 사용\n",
    "list2.sort()\n",
    "print(list2)"
   ]
  },
  {
   "cell_type": "code",
   "execution_count": 3,
   "metadata": {},
   "outputs": [
    {
     "name": "stdout",
     "output_type": "stream",
     "text": [
      "[3, 2, 5, 1]\n"
     ]
    }
   ],
   "source": [
    "list1 = [3, 2, 5, 1]\n",
    "list2 = sorted(list1)\n",
    "print(list1)"
   ]
  },
  {
   "cell_type": "markdown",
   "metadata": {},
   "source": [
    "#### 2차원 리스트 뒤집기\n",
    "2차원 리스트를 뒤집기 위해서는 보통 2중 for문을 사용합니다.    \n",
    "하지만 zip과 unpacking을 이용하면 코드 한 줄로 리스트를 뒤집을 수 있습니다.\n"
   ]
  },
  {
   "cell_type": "code",
   "execution_count": null,
   "metadata": {},
   "outputs": [],
   "source": [
    "def solution(mylist):\n",
    "    answer = [[0 for col in range(len(mylist))] for row in range(len(mylist[0]))]\n",
    "    for i, lst in enumerate(mylist):\n",
    "        for j, num in enumerate(lst):\n",
    "            answer[j][i] = num          \n",
    "    return answer"
   ]
  },
  {
   "cell_type": "markdown",
   "metadata": {},
   "source": [
    "zip 함수는 주어진 iterables의 요소들을 모아 iterator를 만듭니다.   \n",
    "따라서 [1, 2, 3] , [4, 5, 6], [7, 8, 9]의 원소들을 모아   \n",
    "(1, 4, 7), (2, 5, 8), (3, 6, 9)를 구성합니다.   \n"
   ]
  },
  {
   "cell_type": "code",
   "execution_count": 5,
   "metadata": {},
   "outputs": [
    {
     "name": "stdout",
     "output_type": "stream",
     "text": [
      "[1, 2, 3] [4, 5, 6] [7, 8, 9]\n",
      "[(1, 4, 7), (2, 5, 8), (3, 6, 9)]\n",
      "[[1, 4, 7], [2, 5, 8], [3, 6, 9]]\n"
     ]
    }
   ],
   "source": [
    "mylist = [[1, 2, 3], [4, 5, 6], [7, 8, 9]]\n",
    "new_list = list(map(list, zip(*mylist)))\n",
    "print(*mylist)\n",
    "print(list(zip(*mylist)))\n",
    "print(new_list)"
   ]
  },
  {
   "cell_type": "markdown",
   "metadata": {},
   "source": [
    "zip의 특성을 이용해 여러 iterable 동시 순회할 때 사용할 수 있습니다."
   ]
  },
  {
   "cell_type": "code",
   "execution_count": 6,
   "metadata": {},
   "outputs": [
    {
     "name": "stdout",
     "output_type": "stream",
     "text": [
      "(1, 40)\n",
      "(2, 50)\n",
      "(3, 60)\n"
     ]
    },
    {
     "data": {
      "text/plain": [
       "(3, 60)"
      ]
     },
     "execution_count": 6,
     "metadata": {},
     "output_type": "execute_result"
    }
   ],
   "source": [
    "mylist = [1, 2, 3]\n",
    "new_list = [40, 50, 60]\n",
    "for i in zip(mylist, new_list):\n",
    "    print (i)\n",
    "\n",
    "(1, 40)\n",
    "(2, 50)\n",
    "(3, 60)"
   ]
  },
  {
   "cell_type": "markdown",
   "metadata": {},
   "source": [
    "#### i번째 원소와 i + 1 번째 원소 - zip\n",
    "보통 len, index를 통해서 각 원소에 접근하지만 python에서는 zip을 이요해 각 원소에 접근할 수 있습니다."
   ]
  },
  {
   "cell_type": "code",
   "execution_count": 7,
   "metadata": {},
   "outputs": [
    {
     "name": "stdout",
     "output_type": "stream",
     "text": [
      "[35, 35, 9, 67, 60]\n"
     ]
    }
   ],
   "source": [
    "def solution(mylist):\n",
    "    answer = []\n",
    "    for i in range(len(mylist)-1):\n",
    "        answer.append(abs(mylist[i] - mylist[i+1]))\n",
    "    return answer\n",
    "\n",
    "if __name__ == '__main__':\n",
    "    mylist = [83, 48, 13, 4, 71, 11]    \n",
    "    print(solution(mylist))"
   ]
  },
  {
   "cell_type": "markdown",
   "metadata": {},
   "source": [
    "이때 zip 함수에 서로 길이가 다른 iterable가 인자로 들어오는 경우에는 길이가 짧은 쪽 까지만 이터레이션이 이루어집니다!"
   ]
  },
  {
   "cell_type": "code",
   "execution_count": 8,
   "metadata": {},
   "outputs": [
    {
     "name": "stdout",
     "output_type": "stream",
     "text": [
      "[35, 35, 9, 67, 60]\n"
     ]
    }
   ],
   "source": [
    "def solution(mylist):\n",
    "    answer = []\n",
    "    for number1, number2 in zip(mylist, mylist[1:]): # 길이가 짧은 mylist[1:]이 끝날 때 까지 진행\n",
    "        answer.append(abs(number1 - number2))\n",
    "    return answer\n",
    "\n",
    "if __name__ == '__main__':\n",
    "    mylist = [83, 48, 13, 4, 71, 11]    \n",
    "    print(solution(mylist))"
   ]
  },
  {
   "cell_type": "markdown",
   "metadata": {},
   "source": [
    "#### 모든 멤버의 type 변환하기\n",
    "iterable의 모든 멤버의 type을 변환할 때 map을 이용하면 for문을 사용하지 않고도 일괄 변경할 수 있습니다."
   ]
  },
  {
   "cell_type": "code",
   "execution_count": 10,
   "metadata": {},
   "outputs": [
    {
     "name": "stdout",
     "output_type": "stream",
     "text": [
      "[1, 100, 33]\n"
     ]
    }
   ],
   "source": [
    "list1 = [\"1\", \"100\", \"33\"]\n",
    "list2 = [int(i) for i in list1]\n",
    "print(list2)"
   ]
  },
  {
   "cell_type": "code",
   "execution_count": 11,
   "metadata": {},
   "outputs": [
    {
     "name": "stdout",
     "output_type": "stream",
     "text": [
      "[1, 100, 33]\n"
     ]
    }
   ],
   "source": [
    "list1 = ['1', '100', '33']\n",
    "list2 = list(map(int, list1))\n",
    "print(list2)"
   ]
  },
  {
   "cell_type": "markdown",
   "metadata": {},
   "source": [
    "문제 설명\n",
    "정수를 담은 이차원 리스트, mylist 가 solution 함수의 파라미터로 주어집니다. solution 함수가 mylist 각 원소의 길이를 담은 리스트를 리턴하도록 빈칸을 완성해보세요.   \n",
    "\n",
    "hint) 이전 강의에서 배운 map 함수를 활용해보세요    \n",
    "\n",
    "제한 조건    \n",
    "mylist의 길이는 100 이하인 자연수입니다.   \n",
    "mylist 각 원소의 길이는 100 이하인 자연수입니다.   \n",
    "예시    \n",
    "input\toutput    \n",
    "``` python3\n",
    "[[1], [2]]\t[1, 1]    \n",
    "[[1, 2], [3, 4], [5]]\t[2, 2, 1]    \n",
    "```"
   ]
  },
  {
   "cell_type": "code",
   "execution_count": null,
   "metadata": {},
   "outputs": [],
   "source": [
    "def solution(mylist):\n",
    "    answer = list(map(len, mylist))\n",
    "    return answer"
   ]
  }
 ],
 "metadata": {
  "interpreter": {
   "hash": "8b78ed4ea6a57fe792344e280de9328384818c6afc3ba22764817c6c2d533bb3"
  },
  "kernelspec": {
   "display_name": "Python 3.8.8 ('base')",
   "language": "python",
   "name": "python3"
  },
  "language_info": {
   "codemirror_mode": {
    "name": "ipython",
    "version": 3
   },
   "file_extension": ".py",
   "mimetype": "text/x-python",
   "name": "python",
   "nbconvert_exporter": "python",
   "pygments_lexer": "ipython3",
   "version": "3.8.8"
  },
  "orig_nbformat": 4
 },
 "nbformat": 4,
 "nbformat_minor": 2
}
